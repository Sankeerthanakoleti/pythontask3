{
 "cells": [
  {
   "cell_type": "markdown",
   "metadata": {},
   "source": [
    "Task-3\n",
    "\n",
    "Create a text-based chatbot that can have conversations with users.you can use natural language processing libraries like NLTk or spaCy to make your chatbot more conversational."
   ]
  },
  {
   "cell_type": "code",
   "execution_count": 1,
   "metadata": {},
   "outputs": [
    {
     "name": "stdout",
     "output_type": "stream",
     "text": [
      "Hello! I am your chatbot. Type 'bye' to exit.\n",
      "You: \n",
      "Chatbot: Tell me more.\n",
      "You: how r u\n",
      "Chatbot: Tell me more.\n",
      "You: nothing more\n",
      "Chatbot: Please continue!\n",
      "You: not intrested\n",
      "Chatbot: I'm here to listen.\n",
      "You: not intrested\n",
      "Chatbot: What happened next?\n",
      "You: nothing \n",
      "Chatbot: What happened next?\n",
      "You: bye\n",
      "Chatbot: Goodbye!\n"
     ]
    }
   ],
   "source": [
    "import random  \n",
    "\n",
    "print(\"Hello! I am your chatbot. Type 'bye' to exit.\")\n",
    "\n",
    "# List of responses the chatbot can use\n",
    "responses = [\n",
    "    \"That's interesting!\",\n",
    "    \"I'm here to listen.\",\n",
    "    \"Tell me more.\",\n",
    "    \"What happened next?\",\n",
    "    \"Please continue!\"\n",
    "]\n",
    "\n",
    "# Start an infinite loop to keep the conversation going\n",
    "while True:\n",
    "    # Get input from the user\n",
    "    user_input = input(\"You: \")\n",
    "    print(\"You:\", user_input)  \n",
    "\n",
    "    # Check if the user wants to end the conversation\n",
    "    if user_input == 'bye' or user_input == 'Bye' or user_input == 'BYE':\n",
    "        print(\"Chatbot: Goodbye!\")  # Say goodbye if the user types \"bye\"\n",
    "        break  # Exit the loop and end the program\n",
    "\n",
    "    # Choose and print a random response from the responses list\n",
    "    print(\"Chatbot:\", random.choice(responses))"
   ]
  }
 ],
 "metadata": {
  "kernelspec": {
   "display_name": "Python 3",
   "language": "python",
   "name": "python3"
  },
  "language_info": {
   "codemirror_mode": {
    "name": "ipython",
    "version": 3
   },
   "file_extension": ".py",
   "mimetype": "text/x-python",
   "name": "python",
   "nbconvert_exporter": "python",
   "pygments_lexer": "ipython3",
   "version": "3.12.6"
  }
 },
 "nbformat": 4,
 "nbformat_minor": 2
}
